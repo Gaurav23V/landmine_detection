{
 "cells": [
  {
   "cell_type": "markdown",
   "id": "61fc69ea",
   "metadata": {
    "papermill": {
     "duration": 0.007942,
     "end_time": "2023-06-23T08:08:37.490480",
     "exception": false,
     "start_time": "2023-06-23T08:08:37.482538",
     "status": "completed"
    },
    "tags": []
   },
   "source": [
    "# Land Mines Visualize Importance\n",
    "https://www.semanticscholar.org/paper/Passive-Mine-Detection-and-Classification-Method-on-Yilmaz-Kahraman/c70a13956cfeb634a235bc9a5b3398f2000fe68c"
   ]
  },
  {
   "cell_type": "markdown",
   "id": "177f7f53",
   "metadata": {
    "papermill": {
     "duration": 0.00544,
     "end_time": "2023-06-23T08:08:37.502168",
     "exception": false,
     "start_time": "2023-06-23T08:08:37.496728",
     "status": "completed"
    },
    "tags": []
   },
   "source": [
    "![](https://d3i71xaburhd42.cloudfront.net/c70a13956cfeb634a235bc9a5b3398f2000fe68c/3-Figure1-1.png)"
   ]
  },
  {
   "cell_type": "code",
   "execution_count": 1,
   "id": "334a2e4f",
   "metadata": {
    "execution": {
     "iopub.execute_input": "2023-06-23T08:08:37.515526Z",
     "iopub.status.busy": "2023-06-23T08:08:37.515023Z",
     "iopub.status.idle": "2023-06-23T08:08:47.695177Z",
     "shell.execute_reply": "2023-06-23T08:08:47.693712Z"
    },
    "papermill": {
     "duration": 10.191195,
     "end_time": "2023-06-23T08:08:47.698989",
     "exception": false,
     "start_time": "2023-06-23T08:08:37.507794",
     "status": "completed"
    },
    "tags": []
   },
   "outputs": [
    {
     "name": "stderr",
     "output_type": "stream",
     "text": [
      "/opt/conda/lib/python3.10/site-packages/tensorflow_io/python/ops/__init__.py:98: UserWarning: unable to load libtensorflow_io_plugins.so: unable to open file: libtensorflow_io_plugins.so, from paths: ['/opt/conda/lib/python3.10/site-packages/tensorflow_io/python/ops/libtensorflow_io_plugins.so']\n",
      "caused by: ['/opt/conda/lib/python3.10/site-packages/tensorflow_io/python/ops/libtensorflow_io_plugins.so: undefined symbol: _ZN3tsl6StatusC1EN10tensorflow5error4CodeESt17basic_string_viewIcSt11char_traitsIcEENS_14SourceLocationE']\n",
      "  warnings.warn(f\"unable to load libtensorflow_io_plugins.so: {e}\")\n",
      "/opt/conda/lib/python3.10/site-packages/tensorflow_io/python/ops/__init__.py:104: UserWarning: file system plugins are not loaded: unable to open file: libtensorflow_io.so, from paths: ['/opt/conda/lib/python3.10/site-packages/tensorflow_io/python/ops/libtensorflow_io.so']\n",
      "caused by: ['/opt/conda/lib/python3.10/site-packages/tensorflow_io/python/ops/libtensorflow_io.so: undefined symbol: _ZTVN10tensorflow13GcsFileSystemE']\n",
      "  warnings.warn(f\"file system plugins are not loaded: {e}\")\n"
     ]
    }
   ],
   "source": [
    "import os\n",
    "import math\n",
    "import random\n",
    "import numpy as np\n",
    "import pandas as pd\n",
    "import matplotlib.pyplot as plt\n",
    "import seaborn as sns\n",
    "from contextlib import contextmanager\n",
    "from time import time\n",
    "from tqdm import tqdm\n",
    "import lightgbm as lgbm\n",
    "import category_encoders as ce\n",
    "from tensorflow.keras.utils import to_categorical\n",
    "from sklearn.metrics import classification_report, log_loss, accuracy_score\n",
    "from sklearn.metrics import mean_squared_error\n",
    "from sklearn.model_selection import KFold\n",
    "import pickle"
   ]
  },
  {
   "cell_type": "markdown",
   "id": "9d4c296e",
   "metadata": {
    "papermill": {
     "duration": 0.005716,
     "end_time": "2023-06-23T08:08:47.710922",
     "exception": false,
     "start_time": "2023-06-23T08:08:47.705206",
     "status": "completed"
    },
    "tags": []
   },
   "source": [
    "# Data preparation"
   ]
  },
  {
   "cell_type": "code",
   "execution_count": 2,
   "id": "c478f8de",
   "metadata": {
    "_kg_hide-output": true,
    "execution": {
     "iopub.execute_input": "2023-06-23T08:08:47.724787Z",
     "iopub.status.busy": "2023-06-23T08:08:47.723937Z",
     "iopub.status.idle": "2023-06-23T08:08:47.769944Z",
     "shell.execute_reply": "2023-06-23T08:08:47.769106Z"
    },
    "papermill": {
     "duration": 0.056153,
     "end_time": "2023-06-23T08:08:47.772936",
     "exception": false,
     "start_time": "2023-06-23T08:08:47.716783",
     "status": "completed"
    },
    "tags": []
   },
   "outputs": [
    {
     "data": {
      "text/html": [
       "<div>\n",
       "<style scoped>\n",
       "    .dataframe tbody tr th:only-of-type {\n",
       "        vertical-align: middle;\n",
       "    }\n",
       "\n",
       "    .dataframe tbody tr th {\n",
       "        vertical-align: top;\n",
       "    }\n",
       "\n",
       "    .dataframe thead th {\n",
       "        text-align: right;\n",
       "    }\n",
       "</style>\n",
       "<table border=\"1\" class=\"dataframe\">\n",
       "  <thead>\n",
       "    <tr style=\"text-align: right;\">\n",
       "      <th></th>\n",
       "      <th>V</th>\n",
       "      <th>H</th>\n",
       "      <th>S</th>\n",
       "      <th>M</th>\n",
       "    </tr>\n",
       "  </thead>\n",
       "  <tbody>\n",
       "    <tr>\n",
       "      <th>0</th>\n",
       "      <td>0.338157</td>\n",
       "      <td>0.000000</td>\n",
       "      <td>1</td>\n",
       "      <td>1</td>\n",
       "    </tr>\n",
       "    <tr>\n",
       "      <th>1</th>\n",
       "      <td>0.320241</td>\n",
       "      <td>0.181818</td>\n",
       "      <td>1</td>\n",
       "      <td>1</td>\n",
       "    </tr>\n",
       "    <tr>\n",
       "      <th>2</th>\n",
       "      <td>0.287009</td>\n",
       "      <td>0.272727</td>\n",
       "      <td>1</td>\n",
       "      <td>1</td>\n",
       "    </tr>\n",
       "    <tr>\n",
       "      <th>3</th>\n",
       "      <td>0.256284</td>\n",
       "      <td>0.454545</td>\n",
       "      <td>1</td>\n",
       "      <td>1</td>\n",
       "    </tr>\n",
       "    <tr>\n",
       "      <th>4</th>\n",
       "      <td>0.262840</td>\n",
       "      <td>0.545455</td>\n",
       "      <td>1</td>\n",
       "      <td>1</td>\n",
       "    </tr>\n",
       "    <tr>\n",
       "      <th>...</th>\n",
       "      <td>...</td>\n",
       "      <td>...</td>\n",
       "      <td>...</td>\n",
       "      <td>...</td>\n",
       "    </tr>\n",
       "    <tr>\n",
       "      <th>333</th>\n",
       "      <td>0.323262</td>\n",
       "      <td>0.909091</td>\n",
       "      <td>3</td>\n",
       "      <td>5</td>\n",
       "    </tr>\n",
       "    <tr>\n",
       "      <th>334</th>\n",
       "      <td>0.444108</td>\n",
       "      <td>0.181818</td>\n",
       "      <td>6</td>\n",
       "      <td>5</td>\n",
       "    </tr>\n",
       "    <tr>\n",
       "      <th>335</th>\n",
       "      <td>0.353474</td>\n",
       "      <td>0.454545</td>\n",
       "      <td>6</td>\n",
       "      <td>5</td>\n",
       "    </tr>\n",
       "    <tr>\n",
       "      <th>336</th>\n",
       "      <td>0.362537</td>\n",
       "      <td>0.727273</td>\n",
       "      <td>6</td>\n",
       "      <td>5</td>\n",
       "    </tr>\n",
       "    <tr>\n",
       "      <th>337</th>\n",
       "      <td>0.314199</td>\n",
       "      <td>1.000000</td>\n",
       "      <td>6</td>\n",
       "      <td>5</td>\n",
       "    </tr>\n",
       "  </tbody>\n",
       "</table>\n",
       "<p>338 rows × 4 columns</p>\n",
       "</div>"
      ],
      "text/plain": [
       "            V         H  S  M\n",
       "0    0.338157  0.000000  1  1\n",
       "1    0.320241  0.181818  1  1\n",
       "2    0.287009  0.272727  1  1\n",
       "3    0.256284  0.454545  1  1\n",
       "4    0.262840  0.545455  1  1\n",
       "..        ...       ... .. ..\n",
       "333  0.323262  0.909091  3  5\n",
       "334  0.444108  0.181818  6  5\n",
       "335  0.353474  0.454545  6  5\n",
       "336  0.362537  0.727273  6  5\n",
       "337  0.314199  1.000000  6  5\n",
       "\n",
       "[338 rows x 4 columns]"
      ]
     },
     "metadata": {},
     "output_type": "display_data"
    },
    {
     "name": "stdout",
     "output_type": "stream",
     "text": [
      "['V', 'H', 'S', 'M']\n"
     ]
    }
   ],
   "source": [
    "data = pd.read_csv(\"/kaggle/input/land-mines-detection/Land mines.csv\")\n",
    "display(data)\n",
    "print(data.columns.tolist())"
   ]
  },
  {
   "cell_type": "markdown",
   "id": "c3eb6b63",
   "metadata": {
    "papermill": {
     "duration": 0.007062,
     "end_time": "2023-06-23T08:08:47.787094",
     "exception": false,
     "start_time": "2023-06-23T08:08:47.780032",
     "status": "completed"
    },
    "tags": []
   },
   "source": [
    "# Target setting"
   ]
  },
  {
   "cell_type": "code",
   "execution_count": 3,
   "id": "450de4b4",
   "metadata": {
    "execution": {
     "iopub.execute_input": "2023-06-23T08:08:47.803420Z",
     "iopub.status.busy": "2023-06-23T08:08:47.802859Z",
     "iopub.status.idle": "2023-06-23T08:08:47.811670Z",
     "shell.execute_reply": "2023-06-23T08:08:47.810712Z"
    },
    "papermill": {
     "duration": 0.020139,
     "end_time": "2023-06-23T08:08:47.814188",
     "exception": false,
     "start_time": "2023-06-23T08:08:47.794049",
     "status": "completed"
    },
    "tags": []
   },
   "outputs": [
    {
     "name": "stdout",
     "output_type": "stream",
     "text": [
      "[1, 2, 3, 4, 5]\n"
     ]
    }
   ],
   "source": [
    "target=['M']\n",
    "print(data['M'].unique().tolist())"
   ]
  },
  {
   "cell_type": "markdown",
   "id": "791f7e40",
   "metadata": {
    "papermill": {
     "duration": 0.006502,
     "end_time": "2023-06-23T08:08:47.827251",
     "exception": false,
     "start_time": "2023-06-23T08:08:47.820749",
     "status": "completed"
    },
    "tags": []
   },
   "source": [
    "![](https://d3i71xaburhd42.cloudfront.net/c70a13956cfeb634a235bc9a5b3398f2000fe68c/4-Table1-1.png)"
   ]
  },
  {
   "cell_type": "code",
   "execution_count": 4,
   "id": "889b6cf4",
   "metadata": {
    "execution": {
     "iopub.execute_input": "2023-06-23T08:08:47.843631Z",
     "iopub.status.busy": "2023-06-23T08:08:47.843193Z",
     "iopub.status.idle": "2023-06-23T08:08:47.855260Z",
     "shell.execute_reply": "2023-06-23T08:08:47.853784Z"
    },
    "papermill": {
     "duration": 0.024107,
     "end_time": "2023-06-23T08:08:47.857709",
     "exception": false,
     "start_time": "2023-06-23T08:08:47.833602",
     "status": "completed"
    },
    "tags": []
   },
   "outputs": [],
   "source": [
    "trainY=data[target]\n",
    "trainX=data.drop(target,axis=1)\n",
    "df_columns=list(trainX.columns)\n",
    "train_df=trainX\n",
    "train_df.columns=df_columns"
   ]
  },
  {
   "cell_type": "code",
   "execution_count": 5,
   "id": "d3bbe85c",
   "metadata": {
    "execution": {
     "iopub.execute_input": "2023-06-23T08:08:47.872329Z",
     "iopub.status.busy": "2023-06-23T08:08:47.871963Z",
     "iopub.status.idle": "2023-06-23T08:08:47.877368Z",
     "shell.execute_reply": "2023-06-23T08:08:47.876034Z"
    },
    "papermill": {
     "duration": 0.015264,
     "end_time": "2023-06-23T08:08:47.879516",
     "exception": false,
     "start_time": "2023-06-23T08:08:47.864252",
     "status": "completed"
    },
    "tags": []
   },
   "outputs": [],
   "source": [
    "def create_numeric_feature(input_df):\n",
    "    use_columns = df_columns \n",
    "    return input_df[use_columns].copy()"
   ]
  },
  {
   "cell_type": "code",
   "execution_count": 6,
   "id": "8f922551",
   "metadata": {
    "execution": {
     "iopub.execute_input": "2023-06-23T08:08:47.894798Z",
     "iopub.status.busy": "2023-06-23T08:08:47.894082Z",
     "iopub.status.idle": "2023-06-23T08:08:47.902436Z",
     "shell.execute_reply": "2023-06-23T08:08:47.901122Z"
    },
    "papermill": {
     "duration": 0.018905,
     "end_time": "2023-06-23T08:08:47.904907",
     "exception": false,
     "start_time": "2023-06-23T08:08:47.886002",
     "status": "completed"
    },
    "tags": []
   },
   "outputs": [],
   "source": [
    "from contextlib import contextmanager\n",
    "from time import time\n",
    "\n",
    "class Timer:\n",
    "    def __init__(self, logger=None, format_str='{:.3f}[s]', prefix=None, suffix=None, sep=' '):\n",
    "\n",
    "        if prefix: format_str = str(prefix) + sep + format_str\n",
    "        if suffix: format_str = format_str + sep + str(suffix)\n",
    "        self.format_str = format_str\n",
    "        self.logger = logger\n",
    "        self.start = None\n",
    "        self.end = None\n",
    "\n",
    "    @property\n",
    "    def duration(self):\n",
    "        if self.end is None:\n",
    "            return 0\n",
    "        return self.end - self.start\n",
    "\n",
    "    def __enter__(self):\n",
    "        self.start = time()\n",
    "\n",
    "    def __exit__(self, exc_type, exc_val, exc_tb):\n",
    "        self.end = time()\n",
    "        out_str = self.format_str.format(self.duration)\n",
    "        if self.logger:\n",
    "            self.logger.info(out_str)\n",
    "        else:\n",
    "            print(out_str)"
   ]
  },
  {
   "cell_type": "code",
   "execution_count": 7,
   "id": "f8198444",
   "metadata": {
    "execution": {
     "iopub.execute_input": "2023-06-23T08:08:47.920643Z",
     "iopub.status.busy": "2023-06-23T08:08:47.919445Z",
     "iopub.status.idle": "2023-06-23T08:08:47.926559Z",
     "shell.execute_reply": "2023-06-23T08:08:47.925245Z"
    },
    "papermill": {
     "duration": 0.018591,
     "end_time": "2023-06-23T08:08:47.929964",
     "exception": false,
     "start_time": "2023-06-23T08:08:47.911373",
     "status": "completed"
    },
    "tags": []
   },
   "outputs": [],
   "source": [
    "from tqdm import tqdm\n",
    "\n",
    "def to_feature(input_df):\n",
    "\n",
    "    processors = [create_numeric_feature,]\n",
    "    \n",
    "    out_df = pd.DataFrame()\n",
    "    \n",
    "    for func in tqdm(processors, total=len(processors)):\n",
    "        with Timer(prefix='create' + func.__name__ + ' '):\n",
    "            _df = func(input_df)\n",
    "\n",
    "        assert len(_df) == len(input_df), func.__name__\n",
    "        out_df = pd.concat([out_df, _df], axis=1)\n",
    "        \n",
    "    return out_df"
   ]
  },
  {
   "cell_type": "code",
   "execution_count": 8,
   "id": "144fbc80",
   "metadata": {
    "_kg_hide-output": true,
    "execution": {
     "iopub.execute_input": "2023-06-23T08:08:47.949986Z",
     "iopub.status.busy": "2023-06-23T08:08:47.948977Z",
     "iopub.status.idle": "2023-06-23T08:08:47.966577Z",
     "shell.execute_reply": "2023-06-23T08:08:47.965419Z"
    },
    "papermill": {
     "duration": 0.028655,
     "end_time": "2023-06-23T08:08:47.968741",
     "exception": false,
     "start_time": "2023-06-23T08:08:47.940086",
     "status": "completed"
    },
    "tags": []
   },
   "outputs": [
    {
     "name": "stderr",
     "output_type": "stream",
     "text": [
      "100%|██████████| 1/1 [00:00<00:00, 391.81it/s]"
     ]
    },
    {
     "name": "stdout",
     "output_type": "stream",
     "text": [
      "createcreate_numeric_feature  0.001[s]\n"
     ]
    },
    {
     "name": "stderr",
     "output_type": "stream",
     "text": [
      "\n"
     ]
    }
   ],
   "source": [
    "train_feat_df = to_feature(train_df)"
   ]
  },
  {
   "cell_type": "markdown",
   "id": "323e5a27",
   "metadata": {
    "papermill": {
     "duration": 0.008601,
     "end_time": "2023-06-23T08:08:47.984757",
     "exception": false,
     "start_time": "2023-06-23T08:08:47.976156",
     "status": "completed"
    },
    "tags": []
   },
   "source": [
    "# Model"
   ]
  },
  {
   "cell_type": "code",
   "execution_count": 9,
   "id": "1ce9dcff",
   "metadata": {
    "execution": {
     "iopub.execute_input": "2023-06-23T08:08:48.003067Z",
     "iopub.status.busy": "2023-06-23T08:08:48.002036Z",
     "iopub.status.idle": "2023-06-23T08:08:48.015106Z",
     "shell.execute_reply": "2023-06-23T08:08:48.014144Z"
    },
    "papermill": {
     "duration": 0.024888,
     "end_time": "2023-06-23T08:08:48.017998",
     "exception": false,
     "start_time": "2023-06-23T08:08:47.993110",
     "status": "completed"
    },
    "tags": []
   },
   "outputs": [],
   "source": [
    "import lightgbm as lgbm\n",
    "from sklearn.metrics import mean_squared_error\n",
    "\n",
    "def fit_lgbm(X, y, cv, \n",
    "             params: dict=None, \n",
    "             verbose: int=50):\n",
    "\n",
    "    if params is None:\n",
    "        params = {}\n",
    "\n",
    "    models = []\n",
    "    oof_pred = np.zeros_like(y, dtype=np.float) \n",
    "    \n",
    "    for i, (idx_train, idx_valid) in enumerate(cv): \n",
    "        x_train, y_train = X[idx_train], y[idx_train]\n",
    "        x_valid, y_valid = X[idx_valid], y[idx_valid]\n",
    "\n",
    "        #first time\n",
    "        clf = lgbm.LGBMRegressor(**params)\n",
    "\n",
    "        with Timer(prefix='fit fold={} '.format(i)):\n",
    "            clf.fit(x_train, y_train, \n",
    "                    eval_set=[(x_valid, y_valid)],  \n",
    "                    early_stopping_rounds=100,\n",
    "                    verbose=verbose)\n",
    "\n",
    "        pred_i = clf.predict(x_valid)\n",
    "        oof_pred[idx_valid] = pred_i\n",
    "        models.append(clf)\n",
    "        print(f'Fold {i} RMSLE: {mean_squared_error(y_valid, pred_i) ** .5:.4f}')\n",
    "        print()\n",
    "\n",
    "    score = mean_squared_error(y, oof_pred) ** .5\n",
    "    print('-' * 50)\n",
    "    print('FINISHED | Whole RMSLE: {:.4f}'.format(score))\n",
    "    return oof_pred, models"
   ]
  },
  {
   "cell_type": "code",
   "execution_count": 10,
   "id": "88818858",
   "metadata": {
    "execution": {
     "iopub.execute_input": "2023-06-23T08:08:48.038320Z",
     "iopub.status.busy": "2023-06-23T08:08:48.037247Z",
     "iopub.status.idle": "2023-06-23T08:08:48.045130Z",
     "shell.execute_reply": "2023-06-23T08:08:48.043635Z"
    },
    "papermill": {
     "duration": 0.021649,
     "end_time": "2023-06-23T08:08:48.047784",
     "exception": false,
     "start_time": "2023-06-23T08:08:48.026135",
     "status": "completed"
    },
    "tags": []
   },
   "outputs": [],
   "source": [
    "params = {\n",
    "    'objective': 'rmse', \n",
    "    'learning_rate': .1,\n",
    "    'reg_lambda': 1.,\n",
    "    'reg_alpha': .1,\n",
    "    'max_depth': 5, \n",
    "    'n_estimators': 10000, \n",
    "    'colsample_bytree': .5, \n",
    "    'min_child_samples': 10,\n",
    "    'subsample_freq': 3,\n",
    "    'subsample': .9,\n",
    "    'importance_type': 'gain', \n",
    "    'random_state': 71,\n",
    "    'num_leaves': 62\n",
    "}"
   ]
  },
  {
   "cell_type": "code",
   "execution_count": 11,
   "id": "e4d2e5b3",
   "metadata": {
    "_kg_hide-output": true,
    "execution": {
     "iopub.execute_input": "2023-06-23T08:08:48.063957Z",
     "iopub.status.busy": "2023-06-23T08:08:48.063099Z",
     "iopub.status.idle": "2023-06-23T08:08:48.067645Z",
     "shell.execute_reply": "2023-06-23T08:08:48.066772Z"
    },
    "papermill": {
     "duration": 0.015027,
     "end_time": "2023-06-23T08:08:48.069658",
     "exception": false,
     "start_time": "2023-06-23T08:08:48.054631",
     "status": "completed"
    },
    "tags": []
   },
   "outputs": [],
   "source": [
    "y = trainY\n",
    "ydf=pd.DataFrame(y)"
   ]
  },
  {
   "cell_type": "code",
   "execution_count": 12,
   "id": "18819d09",
   "metadata": {
    "execution": {
     "iopub.execute_input": "2023-06-23T08:08:48.086028Z",
     "iopub.status.busy": "2023-06-23T08:08:48.085536Z",
     "iopub.status.idle": "2023-06-23T08:08:48.090404Z",
     "shell.execute_reply": "2023-06-23T08:08:48.089261Z"
    },
    "papermill": {
     "duration": 0.016161,
     "end_time": "2023-06-23T08:08:48.092624",
     "exception": false,
     "start_time": "2023-06-23T08:08:48.076463",
     "status": "completed"
    },
    "tags": []
   },
   "outputs": [],
   "source": [
    "#load\n",
    "#with open('model.pkl', 'rb') as f:\n",
    "#    clf = pickle.load(f)"
   ]
  },
  {
   "cell_type": "code",
   "execution_count": 13,
   "id": "0ce8c476",
   "metadata": {
    "_kg_hide-output": true,
    "execution": {
     "iopub.execute_input": "2023-06-23T08:08:48.108543Z",
     "iopub.status.busy": "2023-06-23T08:08:48.107490Z",
     "iopub.status.idle": "2023-06-23T08:08:50.484794Z",
     "shell.execute_reply": "2023-06-23T08:08:50.483400Z"
    },
    "papermill": {
     "duration": 2.388232,
     "end_time": "2023-06-23T08:08:50.487486",
     "exception": false,
     "start_time": "2023-06-23T08:08:48.099254",
     "status": "completed"
    },
    "tags": []
   },
   "outputs": [
    {
     "name": "stderr",
     "output_type": "stream",
     "text": [
      "/tmp/ipykernel_20/904308162.py:12: DeprecationWarning: `np.float` is a deprecated alias for the builtin `float`. To silence this warning, use `float` by itself. Doing this will not modify any behavior and is safe. If you specifically wanted the numpy scalar type, use `np.float64` here.\n",
      "Deprecated in NumPy 1.20; for more details and guidance: https://numpy.org/devdocs/release/1.20.0-notes.html#deprecations\n",
      "  oof_pred = np.zeros_like(y, dtype=np.float)\n",
      "/opt/conda/lib/python3.10/site-packages/lightgbm/sklearn.py:726: UserWarning: 'early_stopping_rounds' argument is deprecated and will be removed in a future release of LightGBM. Pass 'early_stopping()' callback via 'callbacks' argument instead.\n",
      "  _log_warning(\"'early_stopping_rounds' argument is deprecated and will be removed in a future release of LightGBM. \"\n",
      "/opt/conda/lib/python3.10/site-packages/lightgbm/sklearn.py:736: UserWarning: 'verbose' argument is deprecated and will be removed in a future release of LightGBM. Pass 'log_evaluation()' callback via 'callbacks' argument instead.\n",
      "  _log_warning(\"'verbose' argument is deprecated and will be removed in a future release of LightGBM. \"\n"
     ]
    },
    {
     "name": "stdout",
     "output_type": "stream",
     "text": [
      "fit fold=0  0.570[s]\n",
      "Fold 0 RMSLE: 1.3498\n",
      "\n"
     ]
    },
    {
     "name": "stderr",
     "output_type": "stream",
     "text": [
      "/opt/conda/lib/python3.10/site-packages/lightgbm/sklearn.py:726: UserWarning: 'early_stopping_rounds' argument is deprecated and will be removed in a future release of LightGBM. Pass 'early_stopping()' callback via 'callbacks' argument instead.\n",
      "  _log_warning(\"'early_stopping_rounds' argument is deprecated and will be removed in a future release of LightGBM. \"\n",
      "/opt/conda/lib/python3.10/site-packages/lightgbm/sklearn.py:736: UserWarning: 'verbose' argument is deprecated and will be removed in a future release of LightGBM. Pass 'log_evaluation()' callback via 'callbacks' argument instead.\n",
      "  _log_warning(\"'verbose' argument is deprecated and will be removed in a future release of LightGBM. \"\n"
     ]
    },
    {
     "name": "stdout",
     "output_type": "stream",
     "text": [
      "fit fold=1  0.381[s]\n",
      "Fold 1 RMSLE: 1.2938\n",
      "\n"
     ]
    },
    {
     "name": "stderr",
     "output_type": "stream",
     "text": [
      "/opt/conda/lib/python3.10/site-packages/lightgbm/sklearn.py:726: UserWarning: 'early_stopping_rounds' argument is deprecated and will be removed in a future release of LightGBM. Pass 'early_stopping()' callback via 'callbacks' argument instead.\n",
      "  _log_warning(\"'early_stopping_rounds' argument is deprecated and will be removed in a future release of LightGBM. \"\n",
      "/opt/conda/lib/python3.10/site-packages/lightgbm/sklearn.py:736: UserWarning: 'verbose' argument is deprecated and will be removed in a future release of LightGBM. Pass 'log_evaluation()' callback via 'callbacks' argument instead.\n",
      "  _log_warning(\"'verbose' argument is deprecated and will be removed in a future release of LightGBM. \"\n"
     ]
    },
    {
     "name": "stdout",
     "output_type": "stream",
     "text": [
      "fit fold=2  0.463[s]\n",
      "Fold 2 RMSLE: 1.2941\n",
      "\n"
     ]
    },
    {
     "name": "stderr",
     "output_type": "stream",
     "text": [
      "/opt/conda/lib/python3.10/site-packages/lightgbm/sklearn.py:726: UserWarning: 'early_stopping_rounds' argument is deprecated and will be removed in a future release of LightGBM. Pass 'early_stopping()' callback via 'callbacks' argument instead.\n",
      "  _log_warning(\"'early_stopping_rounds' argument is deprecated and will be removed in a future release of LightGBM. \"\n",
      "/opt/conda/lib/python3.10/site-packages/lightgbm/sklearn.py:736: UserWarning: 'verbose' argument is deprecated and will be removed in a future release of LightGBM. Pass 'log_evaluation()' callback via 'callbacks' argument instead.\n",
      "  _log_warning(\"'verbose' argument is deprecated and will be removed in a future release of LightGBM. \"\n"
     ]
    },
    {
     "name": "stdout",
     "output_type": "stream",
     "text": [
      "fit fold=3  0.342[s]\n",
      "Fold 3 RMSLE: 1.3035\n",
      "\n"
     ]
    },
    {
     "name": "stderr",
     "output_type": "stream",
     "text": [
      "/opt/conda/lib/python3.10/site-packages/lightgbm/sklearn.py:726: UserWarning: 'early_stopping_rounds' argument is deprecated and will be removed in a future release of LightGBM. Pass 'early_stopping()' callback via 'callbacks' argument instead.\n",
      "  _log_warning(\"'early_stopping_rounds' argument is deprecated and will be removed in a future release of LightGBM. \"\n",
      "/opt/conda/lib/python3.10/site-packages/lightgbm/sklearn.py:736: UserWarning: 'verbose' argument is deprecated and will be removed in a future release of LightGBM. Pass 'log_evaluation()' callback via 'callbacks' argument instead.\n",
      "  _log_warning(\"'verbose' argument is deprecated and will be removed in a future release of LightGBM. \"\n"
     ]
    },
    {
     "name": "stdout",
     "output_type": "stream",
     "text": [
      "fit fold=4  0.602[s]\n",
      "Fold 4 RMSLE: 1.2801\n",
      "\n",
      "--------------------------------------------------\n",
      "FINISHED | Whole RMSLE: 1.3046\n"
     ]
    }
   ],
   "source": [
    "from sklearn.model_selection import KFold\n",
    "\n",
    "for i in range(1):\n",
    "    fold = KFold(n_splits=5, shuffle=True, random_state=74)\n",
    "    ydfi=ydf.iloc[:,i]\n",
    "    y=np.array(ydfi)\n",
    "    cv = list(fold.split(train_feat_df, y))\n",
    "    oof, models = fit_lgbm(train_feat_df.values, y, cv, params=params, verbose=500)\n",
    "    \n",
    "    #fig,ax = plt.subplots(figsize=(6,6))\n",
    "    #ax.set_title('Train '+target[i],fontsize=20)\n",
    "    #ax.set_ylabel('Predicted',fontsize=12)\n",
    "    #ax.set_xlabel('Actual',fontsize=12)\n",
    "    #ax.scatter(y,oof)"
   ]
  },
  {
   "cell_type": "code",
   "execution_count": 14,
   "id": "d040e77a",
   "metadata": {
    "execution": {
     "iopub.execute_input": "2023-06-23T08:08:50.505109Z",
     "iopub.status.busy": "2023-06-23T08:08:50.504737Z",
     "iopub.status.idle": "2023-06-23T08:08:50.879313Z",
     "shell.execute_reply": "2023-06-23T08:08:50.878052Z"
    },
    "papermill": {
     "duration": 0.386639,
     "end_time": "2023-06-23T08:08:50.882065",
     "exception": false,
     "start_time": "2023-06-23T08:08:50.495426",
     "status": "completed"
    },
    "tags": []
   },
   "outputs": [
    {
     "data": {
      "image/png": "[encoded data removed]",
      "text/plain": [
       "<Figure size 600x600 with 1 Axes>"
      ]
     },
     "metadata": {},
     "output_type": "display_data"
    }
   ],
   "source": [
    "for i in range(1):\n",
    "    fig,ax = plt.subplots(figsize=(6,6))\n",
    "    ax.set_title('Train '+target[i],fontsize=20)\n",
    "    ax.set_ylabel('Predicted',fontsize=12)\n",
    "    ax.set_xlabel('Actual',fontsize=12)\n",
    "    ax.scatter(y,oof,alpha=0.2)"
   ]
  },
  {
   "cell_type": "markdown",
   "id": "a381b379",
   "metadata": {
    "papermill": {
     "duration": 0.008447,
     "end_time": "2023-06-23T08:08:50.899579",
     "exception": false,
     "start_time": "2023-06-23T08:08:50.891132",
     "status": "completed"
    },
    "tags": []
   },
   "source": [
    "# Visualize Importance"
   ]
  },
  {
   "cell_type": "code",
   "execution_count": 15,
   "id": "9c7548ce",
   "metadata": {
    "execution": {
     "iopub.execute_input": "2023-06-23T08:08:50.918830Z",
     "iopub.status.busy": "2023-06-23T08:08:50.918420Z",
     "iopub.status.idle": "2023-06-23T08:08:50.927135Z",
     "shell.execute_reply": "2023-06-23T08:08:50.925862Z"
    },
    "papermill": {
     "duration": 0.021043,
     "end_time": "2023-06-23T08:08:50.929453",
     "exception": false,
     "start_time": "2023-06-23T08:08:50.908410",
     "status": "completed"
    },
    "tags": []
   },
   "outputs": [],
   "source": [
    "def visualize_importance(models, feat_train_df):\n",
    "\n",
    "    feature_importance_df = pd.DataFrame()\n",
    "    for i, model in enumerate(models):\n",
    "        _df = pd.DataFrame()\n",
    "        _df['feature_importance'] = model.feature_importances_\n",
    "        _df['column'] = feat_train_df.columns\n",
    "        _df['fold'] = i + 1\n",
    "        feature_importance_df = pd.concat([feature_importance_df, _df], \n",
    "                                          axis=0, ignore_index=True)\n",
    "\n",
    "    order = feature_importance_df.groupby('column')\\\n",
    "        .sum()[['feature_importance']]\\\n",
    "        .sort_values('feature_importance', ascending=False).index[:50]\n",
    "    print(list(order[0:20]))\n",
    "\n",
    "    fig, ax = plt.subplots(figsize=(8, max(6, len(order) * .25)))\n",
    "    sns.boxenplot(data=feature_importance_df, \n",
    "                  x='feature_importance', \n",
    "                  y='column', \n",
    "                  order=order, \n",
    "                  ax=ax, \n",
    "                  palette='viridis', \n",
    "                  orient='h')\n",
    "    \n",
    "    ax.tick_params(axis='x', rotation=0)\n",
    "    #ax.set_title('Importance')\n",
    "    ax.grid()\n",
    "    fig.tight_layout()\n",
    "    \n",
    "    return fig,ax\n",
    "\n",
    "#fig, ax = visualize_importance(models, train_feat_df)"
   ]
  },
  {
   "cell_type": "code",
   "execution_count": 16,
   "id": "4c19a17a",
   "metadata": {
    "_kg_hide-output": true,
    "execution": {
     "iopub.execute_input": "2023-06-23T08:08:50.948567Z",
     "iopub.status.busy": "2023-06-23T08:08:50.948137Z",
     "iopub.status.idle": "2023-06-23T08:08:53.268139Z",
     "shell.execute_reply": "2023-06-23T08:08:53.266563Z"
    },
    "papermill": {
     "duration": 2.3324,
     "end_time": "2023-06-23T08:08:53.270414",
     "exception": false,
     "start_time": "2023-06-23T08:08:50.938014",
     "status": "completed"
    },
    "tags": []
   },
   "outputs": [
    {
     "name": "stderr",
     "output_type": "stream",
     "text": [
      "/tmp/ipykernel_20/904308162.py:12: DeprecationWarning: `np.float` is a deprecated alias for the builtin `float`. To silence this warning, use `float` by itself. Doing this will not modify any behavior and is safe. If you specifically wanted the numpy scalar type, use `np.float64` here.\n",
      "Deprecated in NumPy 1.20; for more details and guidance: https://numpy.org/devdocs/release/1.20.0-notes.html#deprecations\n",
      "  oof_pred = np.zeros_like(y, dtype=np.float)\n",
      "/opt/conda/lib/python3.10/site-packages/lightgbm/sklearn.py:726: UserWarning: 'early_stopping_rounds' argument is deprecated and will be removed in a future release of LightGBM. Pass 'early_stopping()' callback via 'callbacks' argument instead.\n",
      "  _log_warning(\"'early_stopping_rounds' argument is deprecated and will be removed in a future release of LightGBM. \"\n",
      "/opt/conda/lib/python3.10/site-packages/lightgbm/sklearn.py:736: UserWarning: 'verbose' argument is deprecated and will be removed in a future release of LightGBM. Pass 'log_evaluation()' callback via 'callbacks' argument instead.\n",
      "  _log_warning(\"'verbose' argument is deprecated and will be removed in a future release of LightGBM. \"\n"
     ]
    },
    {
     "name": "stdout",
     "output_type": "stream",
     "text": [
      "fit fold=0  0.478[s]\n",
      "Fold 0 RMSLE: 1.3498\n",
      "\n"
     ]
    },
    {
     "name": "stderr",
     "output_type": "stream",
     "text": [
      "/opt/conda/lib/python3.10/site-packages/lightgbm/sklearn.py:726: UserWarning: 'early_stopping_rounds' argument is deprecated and will be removed in a future release of LightGBM. Pass 'early_stopping()' callback via 'callbacks' argument instead.\n",
      "  _log_warning(\"'early_stopping_rounds' argument is deprecated and will be removed in a future release of LightGBM. \"\n",
      "/opt/conda/lib/python3.10/site-packages/lightgbm/sklearn.py:736: UserWarning: 'verbose' argument is deprecated and will be removed in a future release of LightGBM. Pass 'log_evaluation()' callback via 'callbacks' argument instead.\n",
      "  _log_warning(\"'verbose' argument is deprecated and will be removed in a future release of LightGBM. \"\n"
     ]
    },
    {
     "name": "stdout",
     "output_type": "stream",
     "text": [
      "fit fold=1  0.380[s]\n",
      "Fold 1 RMSLE: 1.2938\n",
      "\n"
     ]
    },
    {
     "name": "stderr",
     "output_type": "stream",
     "text": [
      "/opt/conda/lib/python3.10/site-packages/lightgbm/sklearn.py:726: UserWarning: 'early_stopping_rounds' argument is deprecated and will be removed in a future release of LightGBM. Pass 'early_stopping()' callback via 'callbacks' argument instead.\n",
      "  _log_warning(\"'early_stopping_rounds' argument is deprecated and will be removed in a future release of LightGBM. \"\n",
      "/opt/conda/lib/python3.10/site-packages/lightgbm/sklearn.py:736: UserWarning: 'verbose' argument is deprecated and will be removed in a future release of LightGBM. Pass 'log_evaluation()' callback via 'callbacks' argument instead.\n",
      "  _log_warning(\"'verbose' argument is deprecated and will be removed in a future release of LightGBM. \"\n"
     ]
    },
    {
     "name": "stdout",
     "output_type": "stream",
     "text": [
      "fit fold=2  0.478[s]\n",
      "Fold 2 RMSLE: 1.2941\n",
      "\n"
     ]
    },
    {
     "name": "stderr",
     "output_type": "stream",
     "text": [
      "/opt/conda/lib/python3.10/site-packages/lightgbm/sklearn.py:726: UserWarning: 'early_stopping_rounds' argument is deprecated and will be removed in a future release of LightGBM. Pass 'early_stopping()' callback via 'callbacks' argument instead.\n",
      "  _log_warning(\"'early_stopping_rounds' argument is deprecated and will be removed in a future release of LightGBM. \"\n",
      "/opt/conda/lib/python3.10/site-packages/lightgbm/sklearn.py:736: UserWarning: 'verbose' argument is deprecated and will be removed in a future release of LightGBM. Pass 'log_evaluation()' callback via 'callbacks' argument instead.\n",
      "  _log_warning(\"'verbose' argument is deprecated and will be removed in a future release of LightGBM. \"\n"
     ]
    },
    {
     "name": "stdout",
     "output_type": "stream",
     "text": [
      "fit fold=3  0.366[s]\n",
      "Fold 3 RMSLE: 1.3035\n",
      "\n"
     ]
    },
    {
     "name": "stderr",
     "output_type": "stream",
     "text": [
      "/opt/conda/lib/python3.10/site-packages/lightgbm/sklearn.py:726: UserWarning: 'early_stopping_rounds' argument is deprecated and will be removed in a future release of LightGBM. Pass 'early_stopping()' callback via 'callbacks' argument instead.\n",
      "  _log_warning(\"'early_stopping_rounds' argument is deprecated and will be removed in a future release of LightGBM. \"\n",
      "/opt/conda/lib/python3.10/site-packages/lightgbm/sklearn.py:736: UserWarning: 'verbose' argument is deprecated and will be removed in a future release of LightGBM. Pass 'log_evaluation()' callback via 'callbacks' argument instead.\n",
      "  _log_warning(\"'verbose' argument is deprecated and will be removed in a future release of LightGBM. \"\n"
     ]
    },
    {
     "name": "stdout",
     "output_type": "stream",
     "text": [
      "fit fold=4  0.597[s]\n",
      "Fold 4 RMSLE: 1.2801\n",
      "\n",
      "--------------------------------------------------\n",
      "FINISHED | Whole RMSLE: 1.3046\n"
     ]
    }
   ],
   "source": [
    "for i in range(1):\n",
    "    fold = KFold(n_splits=5, shuffle=True, random_state=74)\n",
    "    ydfi=ydf.iloc[:,i]\n",
    "    y=np.array(ydfi)\n",
    "    cv = list(fold.split(train_feat_df, y))\n",
    "    oof, models = fit_lgbm(train_feat_df.values, y, cv, params=params, verbose=500)\n",
    "    #fig, ax = visualize_importance(models, train_feat_df)\n",
    "    #ax.set_title(target[i]+' Imortance',fontsize=20)"
   ]
  },
  {
   "cell_type": "code",
   "execution_count": 17,
   "id": "761c61f6",
   "metadata": {
    "execution": {
     "iopub.execute_input": "2023-06-23T08:08:53.290754Z",
     "iopub.status.busy": "2023-06-23T08:08:53.290381Z",
     "iopub.status.idle": "2023-06-23T08:08:53.607333Z",
     "shell.execute_reply": "2023-06-23T08:08:53.605998Z"
    },
    "papermill": {
     "duration": 0.329746,
     "end_time": "2023-06-23T08:08:53.609703",
     "exception": false,
     "start_time": "2023-06-23T08:08:53.279957",
     "status": "completed"
    },
    "tags": []
   },
   "outputs": [
    {
     "name": "stdout",
     "output_type": "stream",
     "text": [
      "['V', 'H', 'S']\n"
     ]
    },
    {
     "data": {
      "image/png": "[encoded data removed]",
      "text/plain": [
       "<Figure size 800x600 with 1 Axes>"
      ]
     },
     "metadata": {},
     "output_type": "display_data"
    }
   ],
   "source": [
    "for i in range(1):\n",
    "    fig, ax = visualize_importance(models, train_feat_df)\n",
    "    ax.set_title(target[i]+' Imortance',fontsize=20)"
   ]
  },
  {
   "cell_type": "code",
   "execution_count": 18,
   "id": "2b72cdf2",
   "metadata": {
    "execution": {
     "iopub.execute_input": "2023-06-23T08:08:53.629818Z",
     "iopub.status.busy": "2023-06-23T08:08:53.629445Z",
     "iopub.status.idle": "2023-06-23T08:08:53.932942Z",
     "shell.execute_reply": "2023-06-23T08:08:53.931908Z"
    },
    "papermill": {
     "duration": 0.316914,
     "end_time": "2023-06-23T08:08:53.935711",
     "exception": false,
     "start_time": "2023-06-23T08:08:53.618797",
     "status": "completed"
    },
    "tags": []
   },
   "outputs": [
    {
     "data": {
      "text/plain": [
       "<matplotlib.collections.PathCollection at 0x7b1437e28670>"
      ]
     },
     "execution_count": 18,
     "metadata": {},
     "output_type": "execute_result"
    },
    {
     "data": {
      "image/png": "[encoded data removed]",
      "text/plain": [
       "<Figure size 600x600 with 1 Axes>"
      ]
     },
     "metadata": {},
     "output_type": "display_data"
    }
   ],
   "source": [
    "fig,ax = plt.subplots(figsize=(6,6))\n",
    "ax.set_title('Voltage vs Mine Type',fontsize=20)\n",
    "ax.set_ylabel('Voltage',fontsize=12)\n",
    "ax.set_xlabel('Mine Type',fontsize=12)\n",
    "ax.scatter(data['M'],data['V'],alpha=0.2)"
   ]
  },
  {
   "cell_type": "code",
   "execution_count": null,
   "id": "3d0fb352",
   "metadata": {
    "papermill": {
     "duration": 0.009743,
     "end_time": "2023-06-23T08:08:53.955544",
     "exception": false,
     "start_time": "2023-06-23T08:08:53.945801",
     "status": "completed"
    },
    "tags": []
   },
   "outputs": [],
   "source": []
  },
  {
   "cell_type": "code",
   "execution_count": null,
   "id": "ec4620f4",
   "metadata": {
    "papermill": {
     "duration": 0.009806,
     "end_time": "2023-06-23T08:08:53.976222",
     "exception": false,
     "start_time": "2023-06-23T08:08:53.966416",
     "status": "completed"
    },
    "tags": []
   },
   "outputs": [],
   "source": []
  }
 ],
 "metadata": {
  "kernelspec": {
   "display_name": "Python 3",
   "language": "python",
   "name": "python3"
  },
  "language_info": {
   "codemirror_mode": {
    "name": "ipython",
    "version": 3
   },
   "file_extension": ".py",
   "mimetype": "text/x-python",
   "name": "python",
   "nbconvert_exporter": "python",
   "pygments_lexer": "ipython3",
   "version": "3.10.10"
  },
  "papermill": {
   "default_parameters": {},
   "duration": 29.471635,
   "end_time": "2023-06-23T08:08:57.404462",
   "environment_variables": {},
   "exception": null,
   "input_path": "__notebook__.ipynb",
   "output_path": "__notebook__.ipynb",
   "parameters": {},
   "start_time": "2023-06-23T08:08:27.932827",
   "version": "2.4.0"
  }
 },
 "nbformat": 4,
 "nbformat_minor": 5
}
