{
 "cells": [
  {
   "cell_type": "code",
   "execution_count": 1,
   "id": "3a677519",
   "metadata": {
    "execution": {
     "iopub.execute_input": "2023-06-25T15:48:36.175967Z",
     "iopub.status.busy": "2023-06-25T15:48:36.175468Z",
     "iopub.status.idle": "2023-06-25T15:48:36.220198Z",
     "shell.execute_reply": "2023-06-25T15:48:36.219056Z"
    },
    "id": "vqFPmsRYM_SM",
    "outputId": "bb3baa9d-7118-4af3-fd5b-c7baff3be583",
    "papermill": {
     "duration": 0.053738,
     "end_time": "2023-06-25T15:48:36.222930",
     "exception": false,
     "start_time": "2023-06-25T15:48:36.169192",
     "status": "completed"
    },
    "tags": []
   },
   "outputs": [
    {
     "data": {
      "text/plain": [
       "(338, 4)"
      ]
     },
     "execution_count": 1,
     "metadata": {},
     "output_type": "execute_result"
    }
   ],
   "source": [
    "import pandas as pd\n",
    "data = pd.read_csv('/kaggle/input/land-mines-detection/Land mines.csv')\n",
    "data.shape"
   ]
  },
  {
   "cell_type": "code",
   "execution_count": 2,
   "id": "140f59d8",
   "metadata": {
    "execution": {
     "iopub.execute_input": "2023-06-25T15:48:36.232384Z",
     "iopub.status.busy": "2023-06-25T15:48:36.232006Z",
     "iopub.status.idle": "2023-06-25T15:48:36.268222Z",
     "shell.execute_reply": "2023-06-25T15:48:36.267276Z"
    },
    "id": "apd4rN2mNPuA",
    "outputId": "098b23af-01e4-45f2-ebe2-0ab3d94fd3fb",
    "papermill": {
     "duration": 0.043636,
     "end_time": "2023-06-25T15:48:36.270690",
     "exception": false,
     "start_time": "2023-06-25T15:48:36.227054",
     "status": "completed"
    },
    "tags": []
   },
   "outputs": [
    {
     "data": {
      "text/html": [
       "<div>\n",
       "<style scoped>\n",
       "    .dataframe tbody tr th:only-of-type {\n",
       "        vertical-align: middle;\n",
       "    }\n",
       "\n",
       "    .dataframe tbody tr th {\n",
       "        vertical-align: top;\n",
       "    }\n",
       "\n",
       "    .dataframe thead th {\n",
       "        text-align: right;\n",
       "    }\n",
       "</style>\n",
       "<table border=\"1\" class=\"dataframe\">\n",
       "  <thead>\n",
       "    <tr style=\"text-align: right;\">\n",
       "      <th></th>\n",
       "      <th>voltage</th>\n",
       "      <th>height</th>\n",
       "      <th>soil</th>\n",
       "      <th>mine</th>\n",
       "    </tr>\n",
       "  </thead>\n",
       "  <tbody>\n",
       "    <tr>\n",
       "      <th>0</th>\n",
       "      <td>0.338157</td>\n",
       "      <td>0.000000</td>\n",
       "      <td>1</td>\n",
       "      <td>1</td>\n",
       "    </tr>\n",
       "    <tr>\n",
       "      <th>1</th>\n",
       "      <td>0.320241</td>\n",
       "      <td>0.181818</td>\n",
       "      <td>1</td>\n",
       "      <td>1</td>\n",
       "    </tr>\n",
       "    <tr>\n",
       "      <th>2</th>\n",
       "      <td>0.287009</td>\n",
       "      <td>0.272727</td>\n",
       "      <td>1</td>\n",
       "      <td>1</td>\n",
       "    </tr>\n",
       "    <tr>\n",
       "      <th>3</th>\n",
       "      <td>0.256284</td>\n",
       "      <td>0.454545</td>\n",
       "      <td>1</td>\n",
       "      <td>1</td>\n",
       "    </tr>\n",
       "    <tr>\n",
       "      <th>4</th>\n",
       "      <td>0.262840</td>\n",
       "      <td>0.545455</td>\n",
       "      <td>1</td>\n",
       "      <td>1</td>\n",
       "    </tr>\n",
       "    <tr>\n",
       "      <th>...</th>\n",
       "      <td>...</td>\n",
       "      <td>...</td>\n",
       "      <td>...</td>\n",
       "      <td>...</td>\n",
       "    </tr>\n",
       "    <tr>\n",
       "      <th>333</th>\n",
       "      <td>0.323262</td>\n",
       "      <td>0.909091</td>\n",
       "      <td>3</td>\n",
       "      <td>5</td>\n",
       "    </tr>\n",
       "    <tr>\n",
       "      <th>334</th>\n",
       "      <td>0.444108</td>\n",
       "      <td>0.181818</td>\n",
       "      <td>6</td>\n",
       "      <td>5</td>\n",
       "    </tr>\n",
       "    <tr>\n",
       "      <th>335</th>\n",
       "      <td>0.353474</td>\n",
       "      <td>0.454545</td>\n",
       "      <td>6</td>\n",
       "      <td>5</td>\n",
       "    </tr>\n",
       "    <tr>\n",
       "      <th>336</th>\n",
       "      <td>0.362537</td>\n",
       "      <td>0.727273</td>\n",
       "      <td>6</td>\n",
       "      <td>5</td>\n",
       "    </tr>\n",
       "    <tr>\n",
       "      <th>337</th>\n",
       "      <td>0.314199</td>\n",
       "      <td>1.000000</td>\n",
       "      <td>6</td>\n",
       "      <td>5</td>\n",
       "    </tr>\n",
       "  </tbody>\n",
       "</table>\n",
       "<p>338 rows × 4 columns</p>\n",
       "</div>"
      ],
      "text/plain": [
       "      voltage    height  soil  mine\n",
       "0    0.338157  0.000000     1     1\n",
       "1    0.320241  0.181818     1     1\n",
       "2    0.287009  0.272727     1     1\n",
       "3    0.256284  0.454545     1     1\n",
       "4    0.262840  0.545455     1     1\n",
       "..        ...       ...   ...   ...\n",
       "333  0.323262  0.909091     3     5\n",
       "334  0.444108  0.181818     6     5\n",
       "335  0.353474  0.454545     6     5\n",
       "336  0.362537  0.727273     6     5\n",
       "337  0.314199  1.000000     6     5\n",
       "\n",
       "[338 rows x 4 columns]"
      ]
     },
     "execution_count": 2,
     "metadata": {},
     "output_type": "execute_result"
    }
   ],
   "source": [
    "\n",
    "data=data.rename(columns={\"V\":\"voltage\", \"H\":\"height\", \"S\":\"soil\",\"M\":\"mine\"})\n",
    "data"
   ]
  },
  {
   "cell_type": "code",
   "execution_count": 3,
   "id": "548bb7ab",
   "metadata": {
    "execution": {
     "iopub.execute_input": "2023-06-25T15:48:36.281249Z",
     "iopub.status.busy": "2023-06-25T15:48:36.280854Z",
     "iopub.status.idle": "2023-06-25T15:48:37.625150Z",
     "shell.execute_reply": "2023-06-25T15:48:37.624098Z"
    },
    "id": "UvB7k-U_S8xS",
    "papermill": {
     "duration": 1.35306,
     "end_time": "2023-06-25T15:48:37.627943",
     "exception": false,
     "start_time": "2023-06-25T15:48:36.274883",
     "status": "completed"
    },
    "tags": []
   },
   "outputs": [],
   "source": [
    "from sklearn.preprocessing import StandardScaler\n",
    "scaler = StandardScaler()\n",
    "y = data.iloc[:, -1]\n",
    "data=scaler.fit_transform(data)\n",
    "\n",
    "X = data[:, :-1]\n",
    "\n"
   ]
  },
  {
   "cell_type": "code",
   "execution_count": 4,
   "id": "5f833a69",
   "metadata": {
    "execution": {
     "iopub.execute_input": "2023-06-25T15:48:37.638013Z",
     "iopub.status.busy": "2023-06-25T15:48:37.637637Z",
     "iopub.status.idle": "2023-06-25T15:48:38.187547Z",
     "shell.execute_reply": "2023-06-25T15:48:38.186443Z"
    },
    "id": "a3FKpZr0TRcb",
    "papermill": {
     "duration": 0.558206,
     "end_time": "2023-06-25T15:48:38.190442",
     "exception": false,
     "start_time": "2023-06-25T15:48:37.632236",
     "status": "completed"
    },
    "tags": []
   },
   "outputs": [],
   "source": [
    "import sklearn\n",
    "from sklearn import svm\n",
    "from sklearn.linear_model import LogisticRegression\n",
    "from sklearn.model_selection import train_test_split\n",
    "\n",
    "X_train, X_test, y_train,y_test=train_test_split(X,y,test_size=0.2,random_state=55)\n",
    "clf = svm.SVC(decision_function_shape='ovo')\n",
    "model=LogisticRegression()\n",
    "from sklearn.ensemble import RandomForestClassifier\n",
    "\n",
    "clf = RandomForestClassifier(n_estimators=10)\n",
    "clf = clf.fit(X, y)\n"
   ]
  },
  {
   "cell_type": "code",
   "execution_count": 5,
   "id": "75170001",
   "metadata": {
    "execution": {
     "iopub.execute_input": "2023-06-25T15:48:38.200731Z",
     "iopub.status.busy": "2023-06-25T15:48:38.200339Z",
     "iopub.status.idle": "2023-06-25T15:48:38.215535Z",
     "shell.execute_reply": "2023-06-25T15:48:38.214529Z"
    },
    "id": "lSAdPUhDT3m6",
    "outputId": "65314783-16e9-4bde-af45-7bd4bdb66307",
    "papermill": {
     "duration": 0.023281,
     "end_time": "2023-06-25T15:48:38.218068",
     "exception": false,
     "start_time": "2023-06-25T15:48:38.194787",
     "status": "completed"
    },
    "tags": []
   },
   "outputs": [
    {
     "name": "stdout",
     "output_type": "stream",
     "text": [
      "0.9852941176470589\n",
      "0.9825210084033614\n"
     ]
    }
   ],
   "source": [
    "y_pred=clf.predict(X_test)\n",
    "from sklearn.metrics import f1_score\n",
    "print(f'{f1_score(y_test,y_pred,average=\"micro\")}\\n{f1_score(y_test,y_pred,average=\"macro\")}')"
   ]
  },
  {
   "cell_type": "code",
   "execution_count": 6,
   "id": "b710b470",
   "metadata": {
    "execution": {
     "iopub.execute_input": "2023-06-25T15:48:38.228595Z",
     "iopub.status.busy": "2023-06-25T15:48:38.228194Z",
     "iopub.status.idle": "2023-06-25T15:48:38.256918Z",
     "shell.execute_reply": "2023-06-25T15:48:38.255410Z"
    },
    "id": "kiSBQiU3LZOM",
    "outputId": "c9d6f569-a8d9-43a6-cb95-39bd779904e2",
    "papermill": {
     "duration": 0.036962,
     "end_time": "2023-06-25T15:48:38.259476",
     "exception": false,
     "start_time": "2023-06-25T15:48:38.222514",
     "status": "completed"
    },
    "tags": []
   },
   "outputs": [
    {
     "name": "stdout",
     "output_type": "stream",
     "text": [
      "0.4852941176470588\n",
      "0.4075337272756627\n"
     ]
    }
   ],
   "source": [
    "model=model.fit(X_train,y_train)\n",
    "y_pred=model.predict(X_test)\n",
    "print(f'{f1_score(y_test,y_pred,average=\"micro\")}\\n{f1_score(y_test,y_pred,average=\"macro\")}')"
   ]
  },
  {
   "cell_type": "code",
   "execution_count": 7,
   "id": "a75056fd",
   "metadata": {
    "execution": {
     "iopub.execute_input": "2023-06-25T15:48:38.270071Z",
     "iopub.status.busy": "2023-06-25T15:48:38.269684Z",
     "iopub.status.idle": "2023-06-25T15:48:38.288928Z",
     "shell.execute_reply": "2023-06-25T15:48:38.287518Z"
    },
    "id": "w8kbA-p_N0Vq",
    "outputId": "763c5814-4af0-448c-fc95-23ba4cd26fca",
    "papermill": {
     "duration": 0.027661,
     "end_time": "2023-06-25T15:48:38.291624",
     "exception": false,
     "start_time": "2023-06-25T15:48:38.263963",
     "status": "completed"
    },
    "tags": []
   },
   "outputs": [
    {
     "name": "stdout",
     "output_type": "stream",
     "text": [
      "0.6323529411764706\n",
      "0.6323529411764706\n"
     ]
    }
   ],
   "source": [
    "model = svm.SVC(kernel='rbf', gamma=0.7, C=30)\n",
    "from sklearn.metrics import accuracy_score\n",
    "model.fit(X_train,y_train)\n",
    "y_pred=model.predict(X_test)\n",
    "print(f'{accuracy_score(y_test,y_pred)}\\n{accuracy_score(y_test,y_pred)}')"
   ]
  },
  {
   "cell_type": "markdown",
   "id": "21e868e0",
   "metadata": {
    "id": "aBTPsUJANLQr",
    "papermill": {
     "duration": 0.004139,
     "end_time": "2023-06-25T15:48:38.300300",
     "exception": false,
     "start_time": "2023-06-25T15:48:38.296161",
     "status": "completed"
    },
    "tags": []
   },
   "source": [
    "#END\n"
   ]
  },
  {
   "cell_type": "markdown",
   "id": "d525f18d",
   "metadata": {
    "id": "LDE4E6YrNOcg",
    "papermill": {
     "duration": 0.005759,
     "end_time": "2023-06-25T15:48:38.310588",
     "exception": false,
     "start_time": "2023-06-25T15:48:38.304829",
     "status": "completed"
    },
    "tags": []
   },
   "source": [
    "Random forest:\n",
    "\n",
    "\n",
    "\n",
    "1.   1.0 f1_score\n",
    "\n",
    "\n",
    "\n",
    "MICRO/MACRO F1_SCORE"
   ]
  }
 ],
 "metadata": {
  "kernelspec": {
   "display_name": "Python 3",
   "language": "python",
   "name": "python3"
  },
  "language_info": {
   "codemirror_mode": {
    "name": "ipython",
    "version": 3
   },
   "file_extension": ".py",
   "mimetype": "text/x-python",
   "name": "python",
   "nbconvert_exporter": "python",
   "pygments_lexer": "ipython3",
   "version": "3.10.10"
  },
  "papermill": {
   "default_parameters": {},
   "duration": 15.161561,
   "end_time": "2023-06-25T15:48:39.338140",
   "environment_variables": {},
   "exception": null,
   "input_path": "__notebook__.ipynb",
   "output_path": "__notebook__.ipynb",
   "parameters": {},
   "start_time": "2023-06-25T15:48:24.176579",
   "version": "2.4.0"
  }
 },
 "nbformat": 4,
 "nbformat_minor": 5
}
